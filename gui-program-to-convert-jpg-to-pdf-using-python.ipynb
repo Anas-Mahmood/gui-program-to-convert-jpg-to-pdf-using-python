{
 "cells": [
  {
   "cell_type": "code",
   "execution_count": 1,
   "id": "9507af6d",
   "metadata": {
    "_cell_guid": "b1076dfc-b9ad-4769-8c92-a6c4dae69d19",
    "_uuid": "8f2839f25d086af736a60e9eeb907d3b93b6e0e5",
    "execution": {
     "iopub.execute_input": "2022-10-07T15:41:17.068973Z",
     "iopub.status.busy": "2022-10-07T15:41:17.068141Z",
     "iopub.status.idle": "2022-10-07T15:41:17.074498Z",
     "shell.execute_reply": "2022-10-07T15:41:17.073680Z"
    },
    "papermill": {
     "duration": 0.013539,
     "end_time": "2022-10-07T15:41:17.077262",
     "exception": false,
     "start_time": "2022-10-07T15:41:17.063723",
     "status": "completed"
    },
    "tags": []
   },
   "outputs": [],
   "source": [
    "#GUI Program to convert jpg to pdf in python\n",
    "\n",
    "# import tkinter as tk\n",
    "# from tkinter import filedialog\n",
    "# from tkinter import messagebox\n",
    "# import os\n",
    "\n",
    "# root = tk.Tk()\n",
    "# root.title(\"File Conversion App\")\n",
    "\n",
    "# def convert():\n",
    "#     filename = filedialog.askopenfilename(initialdir = \"/\",title = \"Select file\",filetypes = ((\"jpeg files\",\"*.jpg\"),(\"png files\",\"*.png\"),(\"webp files\",\"*.webp\")))\n",
    "#     print(filename)\n",
    "#     if filename:\n",
    "#         try:\n",
    "#             basename = os.path.basename(filename) \n",
    "#             root.filename = os.path.splitext(basename)[0] + \".pdf\"\n",
    "#             print (root.filename)\n",
    "\n",
    "#             # Use the Pillow library to convert the image to a PDF file\n",
    "#             from PIL import Image, ImageOps\n",
    "\n",
    "#             im = Image.open(filename)\n",
    "\n",
    "#             im2 = ImageOps.fit(im, (612, 792), Image.ANTIALIAS)\n",
    "\n",
    "#             im2.save(root.filename)\n",
    "\n",
    "#             messagebox.showinfo(\"Success!\", \"File saved successfully as PDF\")\n",
    "\n",
    "#         except: \n",
    "#             messagebox.showerror(\"Error!\", \"There was an error converting the file\")\n",
    "\n",
    "# canvas1 = tk.Canvas(root, width = 300, height = 250, bg = 'lightsteelblue2', relief = 'raised')\n",
    "# canvas1.pack()\n",
    "\n",
    "# label1 = tk.Label(root, text='File Conversion App', bg = 'lightsteelblue2')\n",
    "# label1.config(font = ('helvetica', 20))\n",
    "# canvas1.create_window(150, 60, window=label1)\n",
    "\n",
    "# browseButton_PDF = tk.Button(text=\"      Convert JPEG to PDF     \", command=convert, bg='royalblue', fg='white', font=('helvetica', 12, 'bold'))\n",
    "# canvas1.create_window(150, 130, window=browseButton_PDF) \n",
    "\n",
    "# root.mainloop()"
   ]
  }
 ],
 "metadata": {
  "kernelspec": {
   "display_name": "Python 3",
   "language": "python",
   "name": "python3"
  },
  "language_info": {
   "codemirror_mode": {
    "name": "ipython",
    "version": 3
   },
   "file_extension": ".py",
   "mimetype": "text/x-python",
   "name": "python",
   "nbconvert_exporter": "python",
   "pygments_lexer": "ipython3",
   "version": "3.7.12"
  },
  "papermill": {
   "default_parameters": {},
   "duration": 9.736906,
   "end_time": "2022-10-07T15:41:17.700526",
   "environment_variables": {},
   "exception": null,
   "input_path": "__notebook__.ipynb",
   "output_path": "__notebook__.ipynb",
   "parameters": {},
   "start_time": "2022-10-07T15:41:07.963620",
   "version": "2.3.4"
  }
 },
 "nbformat": 4,
 "nbformat_minor": 5
}
